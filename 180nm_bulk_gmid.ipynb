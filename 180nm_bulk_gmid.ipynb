{
 "cells": [
  {
   "cell_type": "code",
   "execution_count": 1,
   "metadata": {},
   "outputs": [
    {
     "name": "stdout",
     "output_type": "stream",
     "text": [
      "30.81928\n",
      "{'gmid': 16.35426, 'id': 2.076202e-07, 'vth': 0.522}\n",
      "<class 'dict'>\n",
      "<class 'float'>\n",
      "<class 'float'>\n",
      "n = 1.2487925e+00\n",
      "Is = 2.3593205e-07\n",
      "Vth =  0.522\n"
     ]
    },
    {
     "name": "stderr",
     "output_type": "stream",
     "text": [
      "/var/folders/25/gxdw476x0bn_nw6b18t1zd_r0000gn/T/ipykernel_91423/2151502323.py:7: FutureWarning: The 'delim_whitespace' keyword in pd.read_csv is deprecated and will be removed in a future version. Use ``sep='\\s+'`` instead\n",
      "  df = pd.read_csv(csv_path, delim_whitespace=True)\n",
      "/var/folders/25/gxdw476x0bn_nw6b18t1zd_r0000gn/T/ipykernel_91423/2151502323.py:9: SettingWithCopyWarning: \n",
      "A value is trying to be set on a copy of a slice from a DataFrame.\n",
      "Try using .loc[row_indexer,col_indexer] = value instead\n",
      "\n",
      "See the caveats in the documentation: https://pandas.pydata.org/pandas-docs/stable/user_guide/indexing.html#returning-a-view-versus-a-copy\n",
      "  df_selected['v-sweep'] = df_selected['v-sweep'].astype(float)\n",
      "/var/folders/25/gxdw476x0bn_nw6b18t1zd_r0000gn/T/ipykernel_91423/2151502323.py:10: SettingWithCopyWarning: \n",
      "A value is trying to be set on a copy of a slice from a DataFrame.\n",
      "Try using .loc[row_indexer,col_indexer] = value instead\n",
      "\n",
      "See the caveats in the documentation: https://pandas.pydata.org/pandas-docs/stable/user_guide/indexing.html#returning-a-view-versus-a-copy\n",
      "  df_selected['gmid'] = df_selected['gmid'].astype(float)\n"
     ]
    }
   ],
   "source": [
    "# 180nm_bulk.txt  paramter extraction\n",
    "import pandas as pd\n",
    "import pprint\n",
    "\n",
    "csv_path = \"./180nm_bulk.csv\"\n",
    "\n",
    "df = pd.read_csv(csv_path, delim_whitespace=True)\n",
    "df_selected = df[['v-sweep', 'gmid', '@m1[id]']]\n",
    "df_selected['v-sweep'] = df_selected['v-sweep'].astype(float)\n",
    "df_selected['gmid'] = df_selected['gmid'].astype(float)\n",
    "\n",
    "def extract_values(debug = True):\n",
    "    gmid_max = df_selected['gmid'].max()\n",
    "    if debug:\n",
    "        print(gmid_max)\n",
    "    target = 0.531 * gmid_max\n",
    "    idx = (df_selected['gmid'] - target).abs().idxmin()\n",
    "    result = df_selected.iloc[idx].to_dict()\n",
    "    extract = {'gmid' : result['gmid'], \n",
    "               'id' : result['@m1[id]'],\n",
    "               'vth' : result['v-sweep']}\n",
    "    if debug:\n",
    "        pprint.pprint(extract)\n",
    "        print(type(extract))\n",
    "        print(type(extract['gmid']))\n",
    "        print(type(extract['id']))\n",
    "    return extract\n",
    "\n",
    "extract = extract_values()\n",
    "\n",
    "pi_t = 26e-3\n",
    "\n",
    "slope = \"{:.7e}\".format((0.531 / (extract['gmid'] * pi_t)))\n",
    "Is = \"{:.7e}\".format((extract['id'] / 0.88))\n",
    "vth = extract['vth']\n",
    "\n",
    "print(\"n =\", slope)\n",
    "print(\"Is =\", Is)\n",
    "print(\"Vth = \", vth)\n"
   ]
  }
 ],
 "metadata": {
  "kernelspec": {
   "display_name": "5pm",
   "language": "python",
   "name": "python3"
  },
  "language_info": {
   "codemirror_mode": {
    "name": "ipython",
    "version": 3
   },
   "file_extension": ".py",
   "mimetype": "text/x-python",
   "name": "python",
   "nbconvert_exporter": "python",
   "pygments_lexer": "ipython3",
   "version": "3.9.20"
  }
 },
 "nbformat": 4,
 "nbformat_minor": 2
}
