{
 "cells": [
  {
   "cell_type": "code",
   "execution_count": 6,
   "metadata": {},
   "outputs": [
    {
     "name": "stdout",
     "output_type": "stream",
     "text": [
      "    v-sweep        gmid    @m1[id]     gmid_nm\n",
      "0     0.300  25.2764459  0.0000001  22.2503925\n",
      "1     0.301  25.1710046  0.0000001  22.1575745\n",
      "2     0.302  25.0647610  0.0000001  22.0640502\n",
      "3     0.303  24.9577178  0.0000001  21.9698220\n",
      "4     0.304  24.8498782  0.0000001  21.8748928\n",
      "..      ...         ...        ...         ...\n",
      "496   0.796   1.8038365  0.0000055   1.5878842\n",
      "497   0.797   1.7994567  0.0000055   1.5840288\n",
      "498   0.798   1.7950970  0.0000055   1.5801910\n",
      "499   0.799   1.7907573  0.0000056   1.5763709\n",
      "500   0.800   1.7864374  0.0000056   1.5725682\n",
      "\n",
      "[501 rows x 4 columns]\n"
     ]
    },
    {
     "name": "stderr",
     "output_type": "stream",
     "text": [
      "/var/folders/25/gxdw476x0bn_nw6b18t1zd_r0000gn/T/ipykernel_77949/225027397.py:7: FutureWarning: The 'delim_whitespace' keyword in pd.read_csv is deprecated and will be removed in a future version. Use ``sep='\\s+'`` instead\n",
      "  df = pd.read_csv(result_path, delim_whitespace=True)\n",
      "/var/folders/25/gxdw476x0bn_nw6b18t1zd_r0000gn/T/ipykernel_77949/225027397.py:9: SettingWithCopyWarning: \n",
      "A value is trying to be set on a copy of a slice from a DataFrame.\n",
      "Try using .loc[row_indexer,col_indexer] = value instead\n",
      "\n",
      "See the caveats in the documentation: https://pandas.pydata.org/pandas-docs/stable/user_guide/indexing.html#returning-a-view-versus-a-copy\n",
      "  df_selected['v-sweep'] = df_selected['v-sweep'].astype(float).apply(lambda x: f\"{x:.3f}\")\n",
      "/var/folders/25/gxdw476x0bn_nw6b18t1zd_r0000gn/T/ipykernel_77949/225027397.py:10: SettingWithCopyWarning: \n",
      "A value is trying to be set on a copy of a slice from a DataFrame.\n",
      "Try using .loc[row_indexer,col_indexer] = value instead\n",
      "\n",
      "See the caveats in the documentation: https://pandas.pydata.org/pandas-docs/stable/user_guide/indexing.html#returning-a-view-versus-a-copy\n",
      "  df_selected['gmid'] = df_selected['gmid'].astype(float).apply(lambda x: f\"{x:.7f}\")\n",
      "/var/folders/25/gxdw476x0bn_nw6b18t1zd_r0000gn/T/ipykernel_77949/225027397.py:11: SettingWithCopyWarning: \n",
      "A value is trying to be set on a copy of a slice from a DataFrame.\n",
      "Try using .loc[row_indexer,col_indexer] = value instead\n",
      "\n",
      "See the caveats in the documentation: https://pandas.pydata.org/pandas-docs/stable/user_guide/indexing.html#returning-a-view-versus-a-copy\n",
      "  df_selected['@m1[id]'] = df_selected['@m1[id]'].astype(float).apply(lambda x: f\"{x:.7f}\")\n",
      "/var/folders/25/gxdw476x0bn_nw6b18t1zd_r0000gn/T/ipykernel_77949/225027397.py:12: SettingWithCopyWarning: \n",
      "A value is trying to be set on a copy of a slice from a DataFrame.\n",
      "Try using .loc[row_indexer,col_indexer] = value instead\n",
      "\n",
      "See the caveats in the documentation: https://pandas.pydata.org/pandas-docs/stable/user_guide/indexing.html#returning-a-view-versus-a-copy\n",
      "  df_selected['gmid_nm'] = df_selected['gmid_nm'].astype(float).apply(lambda x: f\"{x:.7f}\")\n"
     ]
    }
   ],
   "source": [
    "import pandas as pd\n",
    "import numpy as np\n",
    "import os\n",
    "\n",
    "result_path = './gmid2.csv'\n",
    "\n",
    "df = pd.read_csv(result_path, delim_whitespace=True)\n",
    "df_selected = df[['v-sweep', 'gmid', '@m1[id]', 'gmid_nm']]\n",
    "df_selected['v-sweep'] = df_selected['v-sweep'].astype(float).apply(lambda x: f\"{x:.3f}\")\n",
    "df_selected['gmid'] = df_selected['gmid'].astype(float).apply(lambda x: f\"{x:.7f}\")\n",
    "df_selected['@m1[id]'] = df_selected['@m1[id]'].astype(float).apply(lambda x: f\"{x:.7f}\")\n",
    "df_selected['gmid_nm'] = df_selected['gmid_nm'].astype(float).apply(lambda x: f\"{x:.7f}\")\n",
    "\n",
    "result = df_selected\n",
    "print(result)\n",
    "\n",
    "# result.to_csv(\"./gmid2_result.csv\", index=False)"
   ]
  },
  {
   "cell_type": "code",
   "execution_count": 7,
   "metadata": {},
   "outputs": [
    {
     "name": "stdout",
     "output_type": "stream",
     "text": [
      "4.3463262\n"
     ]
    }
   ],
   "source": [
    "df = pd.read_csv('./gmid2_result.csv')\n",
    "\n",
    "df['gmid'] = df['gmid'].astype(float)\n",
    "gmid_median = df['gmid'].median()\n",
    "\n",
    "print(gmid_median)"
   ]
  },
  {
   "cell_type": "code",
   "execution_count": 8,
   "metadata": {},
   "outputs": [
    {
     "name": "stdout",
     "output_type": "stream",
     "text": [
      "2.8e-06\n"
     ]
    }
   ],
   "source": [
    "result = df[df['gmid'] == gmid_median]\n",
    "\n",
    "idsat = result['@m1[id]'].values[0]\n",
    "\n",
    "print(idsat)\n"
   ]
  },
  {
   "cell_type": "code",
   "execution_count": 9,
   "metadata": {},
   "outputs": [
    {
     "name": "stdout",
     "output_type": "stream",
     "text": [
      "597.6143046671968\n"
     ]
    }
   ],
   "source": [
    "import math\n",
    "\n",
    "zeta = 1/math.sqrt(idsat)\n",
    "\n",
    "print(zeta)"
   ]
  },
  {
   "cell_type": "code",
   "execution_count": 49,
   "metadata": {},
   "outputs": [
    {
     "name": "stdout",
     "output_type": "stream",
     "text": [
      "34.7059153\n",
      "{'gmid': 18.4130066, 'id': 4.54901757e-07, 'vth': 0.356}\n"
     ]
    },
    {
     "name": "stderr",
     "output_type": "stream",
     "text": [
      "/var/folders/25/gxdw476x0bn_nw6b18t1zd_r0000gn/T/ipykernel_85251/2572604922.py:7: FutureWarning: The 'delim_whitespace' keyword in pd.read_csv is deprecated and will be removed in a future version. Use ``sep='\\s+'`` instead\n",
      "  df = pd.read_csv(csv_path, delim_whitespace=True)\n",
      "/var/folders/25/gxdw476x0bn_nw6b18t1zd_r0000gn/T/ipykernel_85251/2572604922.py:9: SettingWithCopyWarning: \n",
      "A value is trying to be set on a copy of a slice from a DataFrame.\n",
      "Try using .loc[row_indexer,col_indexer] = value instead\n",
      "\n",
      "See the caveats in the documentation: https://pandas.pydata.org/pandas-docs/stable/user_guide/indexing.html#returning-a-view-versus-a-copy\n",
      "  df_selected['v-sweep'] = df_selected['v-sweep'].astype(float)\n",
      "/var/folders/25/gxdw476x0bn_nw6b18t1zd_r0000gn/T/ipykernel_85251/2572604922.py:10: SettingWithCopyWarning: \n",
      "A value is trying to be set on a copy of a slice from a DataFrame.\n",
      "Try using .loc[row_indexer,col_indexer] = value instead\n",
      "\n",
      "See the caveats in the documentation: https://pandas.pydata.org/pandas-docs/stable/user_guide/indexing.html#returning-a-view-versus-a-copy\n",
      "  df_selected['gmid'] = df_selected['gmid'].astype(float)\n"
     ]
    }
   ],
   "source": [
    "# BSIMBULK osdi paramter extraction\n",
    "import pandas as pd\n",
    "import pprint\n",
    "\n",
    "csv_path = \"./bsim45.csv\"\n",
    "\n",
    "df = pd.read_csv(csv_path, delim_whitespace=True)\n",
    "df_selected = df[['v-sweep', 'gmid', '@m1[id]']]\n",
    "df_selected['v-sweep'] = df_selected['v-sweep'].astype(float)\n",
    "df_selected['gmid'] = df_selected['gmid'].astype(float)\n",
    "\n",
    "gmid_max_value = df_selected['gmid'].max()\n",
    "print(gmid_max_value)\n",
    "target = 0.531 * gmid_max_value\n",
    "\n",
    "idx = (df_selected['gmid'] - target).abs().idxmin()\n",
    "\n",
    "result = df_selected.iloc[idx].to_dict()\n",
    "extract = { \"gmid\" : result['gmid'],\n",
    "            \"vth\" : result['v-sweep'],\n",
    "            \"id\" : result[\"@m1[id]\"]}\n",
    "\n",
    "pprint.pprint(extract)\n"
   ]
  },
  {
   "cell_type": "code",
   "execution_count": 2,
   "metadata": {},
   "outputs": [
    {
     "name": "stdout",
     "output_type": "stream",
     "text": [
      "30.99355\n",
      "{'gmid': 16.49586, 'id': 3.69619e-06, 'vth': 0.42}\n",
      "<class 'dict'>\n",
      "<class 'float'>\n",
      "<class 'float'>\n",
      "n = 1.2380729e+00\n",
      "Is = 4.2002159e-06\n",
      "Vth =  0.42\n"
     ]
    },
    {
     "name": "stderr",
     "output_type": "stream",
     "text": [
      "/var/folders/25/gxdw476x0bn_nw6b18t1zd_r0000gn/T/ipykernel_87440/1316331689.py:7: FutureWarning: The 'delim_whitespace' keyword in pd.read_csv is deprecated and will be removed in a future version. Use ``sep='\\s+'`` instead\n",
      "  df = pd.read_csv(csv_path, delim_whitespace=True)\n",
      "/var/folders/25/gxdw476x0bn_nw6b18t1zd_r0000gn/T/ipykernel_87440/1316331689.py:9: SettingWithCopyWarning: \n",
      "A value is trying to be set on a copy of a slice from a DataFrame.\n",
      "Try using .loc[row_indexer,col_indexer] = value instead\n",
      "\n",
      "See the caveats in the documentation: https://pandas.pydata.org/pandas-docs/stable/user_guide/indexing.html#returning-a-view-versus-a-copy\n",
      "  df_selected['v-sweep'] = df_selected['v-sweep'].astype(float)\n",
      "/var/folders/25/gxdw476x0bn_nw6b18t1zd_r0000gn/T/ipykernel_87440/1316331689.py:10: SettingWithCopyWarning: \n",
      "A value is trying to be set on a copy of a slice from a DataFrame.\n",
      "Try using .loc[row_indexer,col_indexer] = value instead\n",
      "\n",
      "See the caveats in the documentation: https://pandas.pydata.org/pandas-docs/stable/user_guide/indexing.html#returning-a-view-versus-a-copy\n",
      "  df_selected['gmid'] = df_selected['gmid'].astype(float)\n"
     ]
    }
   ],
   "source": [
    "# 180nm_bulk.txt  paramter extraction\n",
    "import pandas as pd\n",
    "import pprint\n",
    "\n",
    "csv_path = \"./180nm_bulk_5018.csv\"\n",
    "\n",
    "df = pd.read_csv(csv_path, delim_whitespace=True)\n",
    "df_selected = df[['v-sweep', 'gmid', '@m1[id]']]\n",
    "df_selected['v-sweep'] = df_selected['v-sweep'].astype(float)\n",
    "df_selected['gmid'] = df_selected['gmid'].astype(float)\n",
    "\n",
    "def extract_values(debug = True):\n",
    "    gmid_max = df_selected['gmid'].max()\n",
    "    if debug:\n",
    "        print(gmid_max)\n",
    "    target = 0.531 * gmid_max\n",
    "    idx = (df_selected['gmid'] - target).abs().idxmin()\n",
    "    result = df_selected.iloc[idx].to_dict()\n",
    "    extract = {'gmid' : result['gmid'], \n",
    "               'id' : result['@m1[id]'],\n",
    "               'vth' : result['v-sweep']}\n",
    "    if debug:\n",
    "        pprint.pprint(extract)\n",
    "        print(type(extract))\n",
    "        print(type(extract['gmid']))\n",
    "        print(type(extract['id']))\n",
    "    return extract\n",
    "\n",
    "extract = extract_values()\n",
    "\n",
    "pi_t = 26e-3\n",
    "\n",
    "slope = \"{:.7e}\".format((0.531 / (extract['gmid'] * pi_t)))\n",
    "Is = \"{:.7e}\".format((extract['id'] / 0.88))\n",
    "vth = extract['vth']\n",
    "\n",
    "print(\"n =\", slope)\n",
    "print(\"Is =\", Is)\n",
    "print(\"Vth = \", vth)\n"
   ]
  },
  {
   "cell_type": "code",
   "execution_count": 67,
   "metadata": {},
   "outputs": [
    {
     "name": "stdout",
     "output_type": "stream",
     "text": [
      "30.72143\n",
      "{'gmid': 16.32377, 'id': 5.23427e-07, 'vth': 0.228}\n",
      "n = 1.2511250\n",
      "Is = 5.9480341e-07\n",
      "Vth =  0.228\n"
     ]
    },
    {
     "name": "stderr",
     "output_type": "stream",
     "text": [
      "/var/folders/25/gxdw476x0bn_nw6b18t1zd_r0000gn/T/ipykernel_85251/446047422.py:7: FutureWarning: The 'delim_whitespace' keyword in pd.read_csv is deprecated and will be removed in a future version. Use ``sep='\\s+'`` instead\n",
      "  df = pd.read_csv(csv_path, delim_whitespace=True)\n",
      "/var/folders/25/gxdw476x0bn_nw6b18t1zd_r0000gn/T/ipykernel_85251/446047422.py:9: SettingWithCopyWarning: \n",
      "A value is trying to be set on a copy of a slice from a DataFrame.\n",
      "Try using .loc[row_indexer,col_indexer] = value instead\n",
      "\n",
      "See the caveats in the documentation: https://pandas.pydata.org/pandas-docs/stable/user_guide/indexing.html#returning-a-view-versus-a-copy\n",
      "  df_selected['v-sweep'] = df_selected['v-sweep'].astype(float)\n",
      "/var/folders/25/gxdw476x0bn_nw6b18t1zd_r0000gn/T/ipykernel_85251/446047422.py:10: SettingWithCopyWarning: \n",
      "A value is trying to be set on a copy of a slice from a DataFrame.\n",
      "Try using .loc[row_indexer,col_indexer] = value instead\n",
      "\n",
      "See the caveats in the documentation: https://pandas.pydata.org/pandas-docs/stable/user_guide/indexing.html#returning-a-view-versus-a-copy\n",
      "  df_selected['gmid'] = df_selected['gmid'].astype(float)\n"
     ]
    }
   ],
   "source": [
    "# BSIMBULK osdi paramter extraction\n",
    "import pandas as pd\n",
    "import pprint\n",
    "\n",
    "csv_path = \"./bsimbulk.csv\"\n",
    "\n",
    "df = pd.read_csv(csv_path, delim_whitespace=True)\n",
    "df_selected = df[['v-sweep', 'gmid', '@Nn1[ids]']]\n",
    "df_selected['v-sweep'] = df_selected['v-sweep'].astype(float)\n",
    "df_selected['gmid'] = df_selected['gmid'].astype(float)\n",
    "\n",
    "def extract_values(debug = True):\n",
    "    gmid_max = df_selected['gmid'].max()\n",
    "    if debug:\n",
    "        print(gmid_max)\n",
    "    target = 0.531 * gmid_max\n",
    "    idx = (df_selected['gmid'] - target).abs().idxmin()\n",
    "    result = df_selected.iloc[idx].to_dict()\n",
    "    extract = {'gmid' : result['gmid'], \n",
    "               'id' : result['@Nn1[ids]'],\n",
    "               'vth' : result['v-sweep']}\n",
    "    if debug:\n",
    "        pprint.pprint(extract)\n",
    "        # print(type(extract))\n",
    "        # print(type(extract['gmid']))\n",
    "        # print(type(extract['id']))\n",
    "    return extract\n",
    "\n",
    "extract = extract_values()\n",
    "\n",
    "pi_t = 26e-3\n",
    "\n",
    "slope = \"{:.7f}\".format((0.531 / (extract['gmid'] * pi_t)))\n",
    "Is = \"{:.7e}\".format((extract['id'] / 0.88))\n",
    "vth = extract['vth']\n",
    "\n",
    "print(\"n =\", slope)\n",
    "print(\"Is =\", Is)\n",
    "print(\"Vth = \", vth)\n"
   ]
  },
  {
   "cell_type": "code",
   "execution_count": 72,
   "metadata": {},
   "outputs": [
    {
     "name": "stdout",
     "output_type": "stream",
     "text": [
      "34.7059153\n",
      "556\n",
      "{'gmid': 18.4130066, 'id': 4.54901757e-07, 'vth': 0.356}\n",
      "<class 'dict'>\n",
      "<class 'float'>\n",
      "<class 'float'>\n",
      "n = 1.1091658\n",
      "Is = 5.1693381e-07\n",
      "Vth =  0.356\n"
     ]
    },
    {
     "name": "stderr",
     "output_type": "stream",
     "text": [
      "/var/folders/25/gxdw476x0bn_nw6b18t1zd_r0000gn/T/ipykernel_85251/326097909.py:7: FutureWarning: The 'delim_whitespace' keyword in pd.read_csv is deprecated and will be removed in a future version. Use ``sep='\\s+'`` instead\n",
      "  df = pd.read_csv(csv_path, delim_whitespace=True)\n",
      "/var/folders/25/gxdw476x0bn_nw6b18t1zd_r0000gn/T/ipykernel_85251/326097909.py:9: SettingWithCopyWarning: \n",
      "A value is trying to be set on a copy of a slice from a DataFrame.\n",
      "Try using .loc[row_indexer,col_indexer] = value instead\n",
      "\n",
      "See the caveats in the documentation: https://pandas.pydata.org/pandas-docs/stable/user_guide/indexing.html#returning-a-view-versus-a-copy\n",
      "  df_selected['v-sweep'] = df_selected['v-sweep'].astype(float)\n",
      "/var/folders/25/gxdw476x0bn_nw6b18t1zd_r0000gn/T/ipykernel_85251/326097909.py:10: SettingWithCopyWarning: \n",
      "A value is trying to be set on a copy of a slice from a DataFrame.\n",
      "Try using .loc[row_indexer,col_indexer] = value instead\n",
      "\n",
      "See the caveats in the documentation: https://pandas.pydata.org/pandas-docs/stable/user_guide/indexing.html#returning-a-view-versus-a-copy\n",
      "  df_selected['gmid'] = df_selected['gmid'].astype(float)\n"
     ]
    }
   ],
   "source": [
    "# BSIM4.5 paramter extraction\n",
    "import pandas as pd\n",
    "import pprint\n",
    "\n",
    "csv_path = \"./bsim45.csv\"\n",
    "\n",
    "df = pd.read_csv(csv_path, delim_whitespace=True)\n",
    "df_selected = df[['v-sweep', 'gmid', '@m1[id]']]\n",
    "df_selected['v-sweep'] = df_selected['v-sweep'].astype(float)\n",
    "df_selected['gmid'] = df_selected['gmid'].astype(float)\n",
    "\n",
    "def extract_values(debug = True):\n",
    "    gmid_max = df_selected['gmid'].max()\n",
    "    target = 0.531 * gmid_max\n",
    "    idx = (df_selected['gmid'] - target).abs().idxmin()\n",
    "    if debug:\n",
    "        print(gmid_max)\n",
    "        print(idx)\n",
    "    result = df_selected.iloc[idx].to_dict()\n",
    "    extract = {'gmid' : result['gmid'], \n",
    "               'id' : result['@m1[id]'],\n",
    "               'vth' : result['v-sweep']}\n",
    "    if debug:\n",
    "        pprint.pprint(extract)\n",
    "        print(type(extract))\n",
    "        print(type(extract['gmid']))\n",
    "        print(type(extract['id']))\n",
    "    return extract\n",
    "\n",
    "extract = extract_values()\n",
    "\n",
    "pi_t = 26e-3\n",
    "\n",
    "slope = \"{:.7f}\".format((0.531 / (extract['gmid'] * pi_t)))\n",
    "Is = \"{:.7e}\".format((extract['id'] / 0.88))\n",
    "vth = extract['vth']\n",
    "\n",
    "print(\"n =\", slope)\n",
    "print(\"Is =\", Is)\n",
    "print(\"Vth = \", vth)\n"
   ]
  }
 ],
 "metadata": {
  "kernelspec": {
   "display_name": "5pm",
   "language": "python",
   "name": "python3"
  },
  "language_info": {
   "codemirror_mode": {
    "name": "ipython",
    "version": 3
   },
   "file_extension": ".py",
   "mimetype": "text/x-python",
   "name": "python",
   "nbconvert_exporter": "python",
   "pygments_lexer": "ipython3",
   "version": "3.9.20"
  }
 },
 "nbformat": 4,
 "nbformat_minor": 2
}
