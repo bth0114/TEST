{
 "cells": [
  {
   "cell_type": "code",
   "execution_count": 9,
   "metadata": {},
   "outputs": [
    {
     "name": "stdout",
     "output_type": "stream",
     "text": [
      "0.045987635801028645\n"
     ]
    },
    {
     "name": "stderr",
     "output_type": "stream",
     "text": [
      "/var/folders/25/gxdw476x0bn_nw6b18t1zd_r0000gn/T/ipykernel_91203/2108451973.py:7: FutureWarning: The 'delim_whitespace' keyword in pd.read_csv is deprecated and will be removed in a future version. Use ``sep='\\s+'`` instead\n",
      "  df = pd.read_csv(csv_path, delim_whitespace=True)\n"
     ]
    }
   ],
   "source": [
    "import pandas as pd\n",
    "import numpy as np\n",
    "import pprint\n",
    "\n",
    "csv_path = \"./180nm_intrinsic.csv\"\n",
    "\n",
    "df = pd.read_csv(csv_path, delim_whitespace=True)\n",
    "\n",
    "if 'output' in df.columns and 'small' in df.columns:\n",
    "    sigma = (df['small'] / df['output']).abs()\n",
    "\n",
    "    sigma = sigma[0]\n",
    "\n",
    "print(sigma)"
   ]
  }
 ],
 "metadata": {
  "kernelspec": {
   "display_name": "5pm",
   "language": "python",
   "name": "python3"
  },
  "language_info": {
   "codemirror_mode": {
    "name": "ipython",
    "version": 3
   },
   "file_extension": ".py",
   "mimetype": "text/x-python",
   "name": "python",
   "nbconvert_exporter": "python",
   "pygments_lexer": "ipython3",
   "version": "3.9.20"
  }
 },
 "nbformat": 4,
 "nbformat_minor": 2
}
